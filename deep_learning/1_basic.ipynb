{
 "cells": [
  {
   "cell_type": "code",
   "execution_count": 1,
   "id": "c70c3a80",
   "metadata": {},
   "outputs": [],
   "source": [
    "import numpy as np"
   ]
  },
  {
   "cell_type": "code",
   "execution_count": 2,
   "id": "df9dc88d",
   "metadata": {},
   "outputs": [],
   "source": [
    "# softmax"
   ]
  },
  {
   "cell_type": "code",
   "execution_count": 3,
   "id": "cc6e5ddc",
   "metadata": {},
   "outputs": [],
   "source": [
    "# cross entrory"
   ]
  },
  {
   "cell_type": "code",
   "execution_count": null,
   "id": "456791e3",
   "metadata": {},
   "outputs": [],
   "source": [
    "# 梯度求导"
   ]
  }
 ],
 "metadata": {
  "kernelspec": {
   "display_name": "Python 3 (ipykernel)",
   "language": "python",
   "name": "python3"
  },
  "language_info": {
   "codemirror_mode": {
    "name": "ipython",
    "version": 3
   },
   "file_extension": ".py",
   "mimetype": "text/x-python",
   "name": "python",
   "nbconvert_exporter": "python",
   "pygments_lexer": "ipython3",
   "version": "3.8.2"
  }
 },
 "nbformat": 4,
 "nbformat_minor": 5
}
