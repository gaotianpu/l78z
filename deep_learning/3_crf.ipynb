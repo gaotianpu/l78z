{
 "cells": [
  {
   "cell_type": "markdown",
   "id": "a9863508",
   "metadata": {},
   "source": [
    "CRF，英文全称为conditional random field, 中文名为条件随机场.\n",
    "\n",
    "中文分词任务（CWS)\n"
   ]
  }
 ],
 "metadata": {
  "kernelspec": {
   "display_name": "Python 3 (ipykernel)",
   "language": "python",
   "name": "python3"
  },
  "language_info": {
   "codemirror_mode": {
    "name": "ipython",
    "version": 3
   },
   "file_extension": ".py",
   "mimetype": "text/x-python",
   "name": "python",
   "nbconvert_exporter": "python",
   "pygments_lexer": "ipython3",
   "version": "3.8.2"
  }
 },
 "nbformat": 4,
 "nbformat_minor": 5
}
